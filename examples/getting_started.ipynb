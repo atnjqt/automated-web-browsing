{
 "cells": [
  {
   "cell_type": "markdown",
   "metadata": {},
   "source": [
    "## Load your `selenium` module & features"
   ]
  },
  {
   "cell_type": "code",
   "execution_count": 2,
   "metadata": {},
   "outputs": [],
   "source": [
    "from selenium import webdriver\n",
    "from selenium.webdriver.firefox.options import Options\n",
    "from selenium.webdriver.common.keys import Keys\n",
    "#from selenium.webdriver.common.desired_capabilities import DesiredCapabilities\n",
    "#from selenium.webdriver.common.action_chains import ActionChains "
   ]
  },
  {
   "cell_type": "markdown",
   "metadata": {},
   "source": [
    "## Firefox: `geckodriver` & Chrome: `chromedriver`\n",
    "\n",
    "### Check for browser drivers in executable path\n",
    "- Had to download & move the *geckodriver* to path `/usr/local/bin/` on MacOS"
   ]
  },
  {
   "cell_type": "code",
   "execution_count": 31,
   "metadata": {},
   "outputs": [
    {
     "name": "stdout",
     "output_type": "stream",
     "text": [
      "-rwxr-xr-x@ 1 etiennejacquot  staff  15275600 Aug 18  2019 chromedriver*\r\n",
      "-rwxr-xr-x@ 1 etiennejacquot  staff   6091316 Jan 28  2019 geckodriver*\r\n"
     ]
    }
   ],
   "source": [
    "ls -lt /usr/local/bin | grep driver"
   ]
  },
  {
   "cell_type": "markdown",
   "metadata": {},
   "source": [
    "### This is annoying given browsers update, so I just save the driver in my downloads folder:"
   ]
  },
  {
   "cell_type": "code",
   "execution_count": 30,
   "metadata": {},
   "outputs": [
    {
     "name": "stdout",
     "output_type": "stream",
     "text": [
      "-rw-r--r--@   1 etiennejacquot  staff     8015389 Dec  7 21:57 chromedriver_mac64 (4).zip\r\n",
      "-rwxr-xr-x@   1 etiennejacquot  staff    16244548 Dec  1 22:56 chromedriver 3*\r\n",
      "-rw-r--r--@   1 etiennejacquot  staff     7332572 Aug 13 00:54 chromedriver_mac64 (3).zip\r\n",
      "-rw-r--r--@   1 etiennejacquot  staff     7204839 Jun 28 22:48 chromedriver_mac64 (2).zip\r\n",
      "-rwxr-xr-x@   1 etiennejacquot  staff    15368016 May 27  2020 chromedriver 2*\r\n",
      "-rwxr-xr-x@   1 etiennejacquot  staff    15368016 May 27  2020 chromedriver_v84*\r\n",
      "-rwxr-xr-x@   1 etiennejacquot  staff    15093428 May  1  2020 chromedriver_v83*\r\n",
      "-rw-r--r--@   1 etiennejacquot  staff     7488025 Oct 27  2019 chromedriver_mac64 (1).zip\r\n",
      "-rwxr-xr-x@   1 etiennejacquot  staff    15642980 Oct 19  2019 chromedriver_v78*\r\n",
      "-rw-r--r--    1 etiennejacquot  staff        5749 Sep  5  2019 geckodriver.log\r\n",
      "-rw-r--r--@   1 etiennejacquot  staff     7216071 Sep  5  2019 chromedriver_mac64.zip\r\n",
      "-rw-r--r--@   1 etiennejacquot  staff     2099879 Sep  5  2019 geckodriver-v0.24.0-macos.tar.gz\r\n",
      "-rwxr-xr-x@   1 etiennejacquot  staff    15275600 Aug 18  2019 chromedriver*\r\n",
      "-rwxr-xr-x@   1 etiennejacquot  staff     6091316 Jan 28  2019 geckodriver*\r\n",
      "-rwxr-xr-x@   1 etiennejacquot  staff     6091316 Jan 28  2019 geckodriver 2*\r\n"
     ]
    }
   ],
   "source": [
    "ls -lt ~/Downloads | grep driver"
   ]
  },
  {
   "cell_type": "markdown",
   "metadata": {},
   "source": [
    "## Run the following to open a browser showing a gif for 5 seconds!"
   ]
  },
  {
   "cell_type": "code",
   "execution_count": 43,
   "metadata": {},
   "outputs": [],
   "source": [
    "from time import sleep\n",
    "##############################################\n",
    "driver = webdriver.Firefox()\n",
    "\n",
    "url = 'https://www.energy.gov/sites/prod/files/2020/08/f77/080720-np-selenium.gif'\n",
    "\n",
    "driver.get(url)\n",
    "\n",
    "sleep(5)\n",
    "\n",
    "driver.quit()"
   ]
  },
  {
   "cell_type": "markdown",
   "metadata": {},
   "source": [
    "## If your Firefox browser automatically opens up your selenium is good to go!"
   ]
  },
  {
   "cell_type": "code",
   "execution_count": null,
   "metadata": {},
   "outputs": [],
   "source": []
  }
 ],
 "metadata": {
  "kernelspec": {
   "display_name": "Python 3",
   "language": "python",
   "name": "python3"
  },
  "language_info": {
   "codemirror_mode": {
    "name": "ipython",
    "version": 3
   },
   "file_extension": ".py",
   "mimetype": "text/x-python",
   "name": "python",
   "nbconvert_exporter": "python",
   "pygments_lexer": "ipython3",
   "version": "3.7.4"
  }
 },
 "nbformat": 4,
 "nbformat_minor": 2
}
